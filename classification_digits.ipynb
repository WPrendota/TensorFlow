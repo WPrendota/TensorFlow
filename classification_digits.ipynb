{
 "cells": [
  {
   "cell_type": "markdown",
   "metadata": {},
   "source": [
    "## The Basic classification - based on the tutorial from the TensorFlow [website](https://www.tensorflow.org/tutorials/keras/basic_classification)."
   ]
  },
  {
   "cell_type": "markdown",
   "metadata": {},
   "source": [
    "### Importing libraries and printing their versions"
   ]
  },
  {
   "cell_type": "code",
   "execution_count": 17,
   "metadata": {},
   "outputs": [
    {
     "name": "stdout",
     "output_type": "stream",
     "text": [
      "TensorFlow version: 1.13.1\n",
      "Keras version: 2.2.4\n"
     ]
    }
   ],
   "source": [
    "import tensorflow as tf\n",
    "import keras\n",
    "\n",
    "import matplotlib.pyplot as plt\n",
    "import numpy as np\n",
    "\n",
    "print(\"TensorFlow version: \" + str(tf.__version__))\n",
    "print(\"Keras version: \" + str(keras.__version__))\n",
    "\n",
    "from keras.datasets import mnist"
   ]
  },
  {
   "cell_type": "markdown",
   "metadata": {},
   "source": [
    "### Loading '[MNIST database of handwritten digits](https://keras.io/datasets/)' dataset"
   ]
  },
  {
   "cell_type": "code",
   "execution_count": 113,
   "metadata": {},
   "outputs": [],
   "source": [
    "(x_train, y_train), (x_test, y_test) = mnist.load_data()"
   ]
  },
  {
   "cell_type": "code",
   "execution_count": 116,
   "metadata": {},
   "outputs": [],
   "source": [
    "class_names = {'0', '1', '2', '3', '4', '5', '6', '7', '8', '9'}"
   ]
  },
  {
   "cell_type": "code",
   "execution_count": 3,
   "metadata": {},
   "outputs": [
    {
     "data": {
      "text/plain": [
       "(60000, 28, 28)"
      ]
     },
     "execution_count": 3,
     "metadata": {},
     "output_type": "execute_result"
    }
   ],
   "source": [
    "x_train.shape"
   ]
  },
  {
   "cell_type": "code",
   "execution_count": 4,
   "metadata": {},
   "outputs": [
    {
     "data": {
      "text/plain": [
       "(10000, 28, 28)"
      ]
     },
     "execution_count": 4,
     "metadata": {},
     "output_type": "execute_result"
    }
   ],
   "source": [
    "x_test.shape"
   ]
  },
  {
   "cell_type": "markdown",
   "metadata": {},
   "source": [
    "### Example of figures stored in dataset"
   ]
  },
  {
   "cell_type": "code",
   "execution_count": 73,
   "metadata": {},
   "outputs": [
    {
     "data": {
      "image/png": "[encoded data removed]",
      "text/plain": [
       "<Figure size 720x720 with 18 Axes>"
      ]
     },
     "metadata": {
      "needs_background": "light"
     },
     "output_type": "display_data"
    },
    {
     "name": "stdout",
     "output_type": "stream",
     "text": [
      "Images labels: \n",
      "0, 4, 1, 9, 2, 1, 3, 1, 4, \n"
     ]
    }
   ],
   "source": [
    "fig=plt.figure(figsize=(10, 10))\n",
    "\n",
    "columns = 3\n",
    "rows = 3\n",
    "\n",
    "labels = ''\n",
    "\n",
    "for img_num in range(1, columns*rows + 1):\n",
    "    img = x_train[img_num]\n",
    "    fig.add_subplot(rows, columns, img_num)\n",
    "    plt.imshow(img)\n",
    "    plt.colorbar()\n",
    "    labels = labels + str(y_train[img_num]) + \", \"\n",
    "    \n",
    "plt.show()\n",
    "\n",
    "print(\"Images labels: \")\n",
    "print(labels)"
   ]
  },
  {
   "cell_type": "markdown",
   "metadata": {},
   "source": [
    "### The images scaling"
   ]
  },
  {
   "cell_type": "code",
   "execution_count": 6,
   "metadata": {},
   "outputs": [],
   "source": [
    "x_train_scal = x_train/255.0\n",
    "x_test_scal = x_test/255.0"
   ]
  },
  {
   "cell_type": "markdown",
   "metadata": {},
   "source": [
    "### The model creation"
   ]
  },
  {
   "cell_type": "code",
   "execution_count": 7,
   "metadata": {},
   "outputs": [
    {
     "name": "stdout",
     "output_type": "stream",
     "text": [
      "WARNING:tensorflow:From /home/witek/anaconda3/lib/python3.7/site-packages/tensorflow/python/framework/op_def_library.py:263: colocate_with (from tensorflow.python.framework.ops) is deprecated and will be removed in a future version.\n",
      "Instructions for updating:\n",
      "Colocations handled automatically by placer.\n"
     ]
    }
   ],
   "source": [
    "model = keras.Sequential([\n",
    "                        keras.layers.Flatten(input_shape=(28, 28)),\n",
    "                        keras.layers.Dense(128, activation=tf.nn.relu),\n",
    "                        keras.layers.Dense(10, activation=tf.nn.softmax)\n",
    "                        ])"
   ]
  },
  {
   "cell_type": "markdown",
   "metadata": {},
   "source": [
    "### The model compilation"
   ]
  },
  {
   "cell_type": "code",
   "execution_count": 8,
   "metadata": {},
   "outputs": [],
   "source": [
    "model.compile(optimizer='adam',\n",
    "              loss='sparse_categorical_crossentropy',\n",
    "              metrics=['accuracy'])"
   ]
  },
  {
   "cell_type": "markdown",
   "metadata": {},
   "source": [
    "### The model fitting"
   ]
  },
  {
   "cell_type": "code",
   "execution_count": 9,
   "metadata": {},
   "outputs": [
    {
     "name": "stdout",
     "output_type": "stream",
     "text": [
      "WARNING:tensorflow:From /home/witek/anaconda3/lib/python3.7/site-packages/tensorflow/python/ops/math_ops.py:3066: to_int32 (from tensorflow.python.ops.math_ops) is deprecated and will be removed in a future version.\n",
      "Instructions for updating:\n",
      "Use tf.cast instead.\n",
      "Epoch 1/10\n",
      "60000/60000 [==============================] - 15s 252us/step - loss: 0.2572 - acc: 0.9269\n",
      "Epoch 2/10\n",
      "60000/60000 [==============================] - 15s 250us/step - loss: 0.1141 - acc: 0.9662\n",
      "Epoch 3/10\n",
      "60000/60000 [==============================] - 15s 255us/step - loss: 0.0785 - acc: 0.9764\n",
      "Epoch 4/10\n",
      "60000/60000 [==============================] - 15s 253us/step - loss: 0.0572 - acc: 0.9825\n",
      "Epoch 5/10\n",
      "60000/60000 [==============================] - 16s 265us/step - loss: 0.0454 - acc: 0.9861\n",
      "Epoch 6/10\n",
      "60000/60000 [==============================] - 15s 246us/step - loss: 0.0365 - acc: 0.9886\n",
      "Epoch 7/10\n",
      "60000/60000 [==============================] - 16s 259us/step - loss: 0.0298 - acc: 0.9903\n",
      "Epoch 8/10\n",
      "60000/60000 [==============================] - 16s 262us/step - loss: 0.0228 - acc: 0.9928\n",
      "Epoch 9/10\n",
      "60000/60000 [==============================] - 16s 261us/step - loss: 0.0199 - acc: 0.9938\n",
      "Epoch 10/10\n",
      "60000/60000 [==============================] - 16s 259us/step - loss: 0.0164 - acc: 0.9946\n"
     ]
    },
    {
     "data": {
      "text/plain": [
       "<keras.callbacks.History at 0x7fb02c492978>"
      ]
     },
     "execution_count": 9,
     "metadata": {},
     "output_type": "execute_result"
    }
   ],
   "source": [
    "model.fit(x_train_scal, y_train, epochs=10)"
   ]
  },
  {
   "cell_type": "code",
   "execution_count": 12,
   "metadata": {},
   "outputs": [
    {
     "name": "stdout",
     "output_type": "stream",
     "text": [
      "10000/10000 [==============================] - 1s 95us/step\n"
     ]
    }
   ],
   "source": [
    "loss, acc = model.evaluate(x_test_scal, y_test)"
   ]
  },
  {
   "cell_type": "code",
   "execution_count": 20,
   "metadata": {},
   "outputs": [
    {
     "name": "stdout",
     "output_type": "stream",
     "text": [
      "Loss function: 0.086, Accuracy: 0.976\n"
     ]
    }
   ],
   "source": [
    "print(\"Loss function: \" + str(np.round(loss, 3)) + \", Accuracy: \" + str(np.round(acc, 3)))"
   ]
  },
  {
   "cell_type": "markdown",
   "metadata": {},
   "source": [
    "### Prediction of single number"
   ]
  },
  {
   "cell_type": "code",
   "execution_count": 264,
   "metadata": {},
   "outputs": [],
   "source": [
    "img_predict = np.expand_dims(x_test_scal[0], 0)\n",
    "\n",
    "prediction = model.predict(img_predict)"
   ]
  },
  {
   "cell_type": "code",
   "execution_count": 265,
   "metadata": {},
   "outputs": [
    {
     "data": {
      "text/plain": [
       "array([2.34874364e-09, 3.26597117e-11, 7.91223371e-08, 3.06701731e-05,\n",
       "       7.00043972e-13, 3.41881974e-11, 1.24536069e-14, 9.99969006e-01,\n",
       "       1.18274144e-07, 7.15552844e-08], dtype=float32)"
      ]
     },
     "execution_count": 265,
     "metadata": {},
     "output_type": "execute_result"
    }
   ],
   "source": [
    "prediction[0]"
   ]
  },
  {
   "cell_type": "code",
   "execution_count": 266,
   "metadata": {},
   "outputs": [
    {
     "data": {
      "text/plain": [
       "0.999969"
      ]
     },
     "execution_count": 266,
     "metadata": {},
     "output_type": "execute_result"
    }
   ],
   "source": [
    "np.max(prediction[0])"
   ]
  },
  {
   "cell_type": "code",
   "execution_count": 267,
   "metadata": {},
   "outputs": [
    {
     "data": {
      "text/plain": [
       "7"
      ]
     },
     "execution_count": 267,
     "metadata": {},
     "output_type": "execute_result"
    }
   ],
   "source": [
    "np.argmax(prediction[0])"
   ]
  },
  {
   "cell_type": "code",
   "execution_count": 269,
   "metadata": {},
   "outputs": [
    {
     "data": {
      "text/plain": [
       "Text(0, 0.5, 'Probability')"
      ]
     },
     "execution_count": 269,
     "metadata": {},
     "output_type": "execute_result"
    },
    {
     "data": {
      "image/png": "[encoded data removed]",
      "text/plain": [
       "<Figure size 432x288 with 1 Axes>"
      ]
     },
     "metadata": {
      "needs_background": "light"
     },
     "output_type": "display_data"
    }
   ],
   "source": [
    "pl = plt.bar(np.arange(0, 10, 1), prediction[0], tick_label=np.arange(0,10,1))\n",
    "plt.xlabel(\"Digits\")\n",
    "plt.ylabel(\"Probability\")"
   ]
  },
  {
   "cell_type": "markdown",
   "metadata": {},
   "source": [
    "## Test ended successfully - prepared model distinguished number correctly."
   ]
  },
  {
   "cell_type": "markdown",
   "metadata": {},
   "source": [
    "## Prediction of multiple digits"
   ]
  },
  {
   "cell_type": "code",
   "execution_count": 260,
   "metadata": {},
   "outputs": [
    {
     "name": "stdout",
     "output_type": "stream",
     "text": [
      "The image number to predict: 10\n"
     ]
    }
   ],
   "source": [
    "img_predicts = []\n",
    "img_labels = []\n",
    "max_img_number = 10\n",
    "\n",
    "while True:\n",
    "    rand_num = np.random.randint(0, 10000)\n",
    "    img_predicts.append(np.expand_dims(x_test_scal[rand_num], 0))\n",
    "    img_labels.append(rand_num)\n",
    "    if len(img_predicts) == max_img_number:\n",
    "        break\n",
    "\n",
    "print(\"The image number to predict: \" + str(len(img_predicts)))"
   ]
  },
  {
   "cell_type": "code",
   "execution_count": 261,
   "metadata": {},
   "outputs": [],
   "source": [
    "predictions = []\n",
    "\n",
    "for img in img_predicts:\n",
    "    predictions.append(model.predict(img))"
   ]
  },
  {
   "cell_type": "code",
   "execution_count": 263,
   "metadata": {},
   "outputs": [
    {
     "name": "stdout",
     "output_type": "stream",
     "text": [
      "Number: 1\n",
      "Predicted number: 1\n",
      "Probability: 0.9915726\n",
      "Number: 7\n",
      "Predicted number: 7\n",
      "Probability: 0.9999962\n",
      "Number: 6\n",
      "Predicted number: 6\n",
      "Probability: 1.0\n",
      "Number: 4\n",
      "Predicted number: 4\n",
      "Probability: 0.99999964\n",
      "Number: 0\n",
      "Predicted number: 0\n",
      "Probability: 0.9999367\n",
      "Number: 9\n",
      "Predicted number: 9\n",
      "Probability: 0.9999639\n",
      "Number: 6\n",
      "Predicted number: 6\n",
      "Probability: 1.0\n",
      "Number: 7\n",
      "Predicted number: 7\n",
      "Probability: 0.999995\n",
      "Number: 2\n",
      "Predicted number: 2\n",
      "Probability: 1.0\n",
      "Number: 8\n",
      "Predicted number: 8\n",
      "Probability: 0.9999994\n"
     ]
    }
   ],
   "source": [
    "number = 0\n",
    "\n",
    "for prediction in predictions:\n",
    "    print(\"Number: \" + str(y_test[img_labels[number]]))\n",
    "    print(\"Predicted number: \" + str(np.argmax(prediction)))\n",
    "    print(\"Probability: \" + str(np.max(prediction)))\n",
    "    number += 1"
   ]
  },
  {
   "cell_type": "code",
   "execution_count": 352,
   "metadata": {},
   "outputs": [
    {
     "data": {
      "text/plain": [
       "Text(1.5, -0.9, 'Predicted number: 8')"
      ]
     },
     "execution_count": 352,
     "metadata": {},
     "output_type": "execute_result"
    },
    {
     "data": {
      "image/png": "[encoded data removed]",
      "text/plain": [
       "<Figure size 1080x1080 with 10 Axes>"
      ]
     },
     "metadata": {
      "needs_background": "light"
     },
     "output_type": "display_data"
    }
   ],
   "source": [
    "rows = 5\n",
    "cols = 2\n",
    "\n",
    "fig = plt.figure(figsize=(15, 15))\n",
    "fig.subplots_adjust(wspace=0.5, hspace=1)\n",
    "img_counter = 0\n",
    "\n",
    "for num in range(1, rows*cols +1):\n",
    "    plt.text(3, -0.6, 'Number: ' + str(y_test[img_labels[img_counter-1]]), fontsize=20)\n",
    "    plt.text(1.5, -0.9, \"Predicted number: \" + str(np.argmax(predictions[img_counter-1])), fontsize=20)\n",
    "    plt.subplot(rows, cols, num)\n",
    "    #plt.bar(np.arange(0, 10, 1), predictions[0], tick_label=np.arange(0,10,1))\n",
    "    ple = plt.bar(np.arange(0, 10, 1), predictions[img_counter][0], tick_label=np.arange(0,10,1))\n",
    "    plt.xlabel(\"Digits\")\n",
    "    plt.ylabel(\"Probability\")\n",
    "    img_counter += 1\n",
    "    \n",
    "plt.text(3, -0.6, 'Number: ' + str(y_test[img_labels[-1]]), fontsize=20)\n",
    "plt.text(1.5, -0.9, \"Predicted number: \" + str(np.argmax(predictions[-1])), fontsize=20)"
   ]
  },
  {
   "cell_type": "markdown",
   "metadata": {},
   "source": [
    "## Test resulted in 100% of correct answers (for random digits from test dataset)."
   ]
  },
  {
   "cell_type": "markdown",
   "metadata": {},
   "source": [
    "## Checking own dataset"
   ]
  },
  {
   "cell_type": "markdown",
   "metadata": {},
   "source": [
    "### Loading test dataset"
   ]
  },
  {
   "cell_type": "code",
   "execution_count": null,
   "metadata": {},
   "outputs": [],
   "source": []
  }
 ],
 "metadata": {
  "kernelspec": {
   "display_name": "Python 3",
   "language": "python",
   "name": "python3"
  },
  "language_info": {
   "codemirror_mode": {
    "name": "ipython",
    "version": 3
   },
   "file_extension": ".py",
   "mimetype": "text/x-python",
   "name": "python",
   "nbconvert_exporter": "python",
   "pygments_lexer": "ipython3",
   "version": "3.7.1"
  }
 },
 "nbformat": 4,
 "nbformat_minor": 2
}
